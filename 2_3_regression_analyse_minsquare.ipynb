{
 "cells": [
  {
   "cell_type": "code",
   "execution_count": 2,
   "id": "38edc446",
   "metadata": {},
   "outputs": [],
   "source": [
    "import numpy as np\n",
    "import matplotlib.pyplot as plt"
   ]
  },
  {
   "cell_type": "code",
   "execution_count": 5,
   "id": "a4a65003",
   "metadata": {},
   "outputs": [],
   "source": [
    "\n",
    "def calcAB(x,y):\n",
    "    n = len(x)\n",
    "    sumX, sumY, sumXY, sumXX = 0, 0, 0, 0\n",
    "    for i in range(n):\n",
    "        sumX += x[i]\n",
    "        sumY += y[i]\n",
    "        sumXX += x[i]*x[i]\n",
    "        sumXY += x[i]*y[i]\n",
    "    a = (n*sumXY - sumX*sumY) / (n*sumXX - sumX*sumX)\n",
    "    b = (sumXX*sumY - sumX*sumXY) / (n*sumXX - sumX*sumX)\n",
    "    return a,b"
   ]
  },
  {
   "cell_type": "code",
   "execution_count": 17,
   "id": "28c9e534",
   "metadata": {},
   "outputs": [],
   "source": [
    "xi = [1,2,3,4,5,6,7,8,9,10]\n",
    "yi = [10,11.5,12,13,14.5,15.5,16.8,17.3,18,18.7]"
   ]
  },
  {
   "cell_type": "code",
   "execution_count": 18,
   "id": "75b1e70a",
   "metadata": {},
   "outputs": [],
   "source": [
    "a,b=calcAB(xi,yi)"
   ]
  },
  {
   "cell_type": "code",
   "execution_count": 19,
   "id": "b5177304",
   "metadata": {},
   "outputs": [
    {
     "name": "stdout",
     "output_type": "stream",
     "text": [
      "y =    0.98606x +    9.30667\n"
     ]
    }
   ],
   "source": [
    "print(\"y = %10.5fx + %10.5f\" % (a,b))"
   ]
  },
  {
   "cell_type": "code",
   "execution_count": 20,
   "id": "03d044b0",
   "metadata": {},
   "outputs": [
    {
     "data": {
      "image/png": "[encoded data removed]",
      "text/plain": [
       "<Figure size 432x288 with 1 Axes>"
      ]
     },
     "metadata": {
      "needs_background": "light"
     },
     "output_type": "display_data"
    }
   ],
   "source": [
    "x = np.linspace(0,10)\n",
    "y = a*x + b\n",
    "plt.plot(x,y)\n",
    "plt.scatter(xi,yi)\n",
    "plt.show()"
   ]
  }
 ],
 "metadata": {
  "kernelspec": {
   "display_name": "Python 3 (ipykernel)",
   "language": "python",
   "name": "python3"
  },
  "language_info": {
   "codemirror_mode": {
    "name": "ipython",
    "version": 3
   },
   "file_extension": ".py",
   "mimetype": "text/x-python",
   "name": "python",
   "nbconvert_exporter": "python",
   "pygments_lexer": "ipython3",
   "version": "3.9.7"
  }
 },
 "nbformat": 4,
 "nbformat_minor": 5
}
