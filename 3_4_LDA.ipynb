{
 "cells": [
  {
   "cell_type": "code",
   "execution_count": 6,
   "id": "b171a0c7",
   "metadata": {},
   "outputs": [],
   "source": [
    "import numpy as np"
   ]
  },
  {
   "cell_type": "code",
   "execution_count": 7,
   "id": "1e815555",
   "metadata": {},
   "outputs": [],
   "source": [
    "def GetProjectivePoint_2D(point, line):\n",
    "    a = point[0]\n",
    "    b = point[2]\n",
    "    k = line[0]\n",
    "    t = line[1]\n",
    "    if k == 0:\n",
    "        return [a, t]\n",
    "    elif k == np.inf:\n",
    "        return [0, b]\n",
    "    \n",
    "    x = (a+k*b-k*t) / (k*k+1)\n",
    "    y = k*x + t\n",
    "    return [x,y]"
   ]
  },
  {
   "cell_type": "code",
   "execution_count": 8,
   "id": "9865f569",
   "metadata": {},
   "outputs": [],
   "source": [
    "from _operator import inv\n",
    "import matplotlib.pyplot as plt"
   ]
  },
  {
   "cell_type": "code",
   "execution_count": 19,
   "id": "4775d0f0",
   "metadata": {},
   "outputs": [],
   "source": [
    "data_file = open('waterlemon_3a.csv')"
   ]
  },
  {
   "cell_type": "code",
   "execution_count": 20,
   "id": "30efefbd",
   "metadata": {},
   "outputs": [],
   "source": [
    "dataset= np.loadtxt(data_file, delimiter=\",\")"
   ]
  },
  {
   "cell_type": "code",
   "execution_count": 39,
   "id": "ca3ff560",
   "metadata": {},
   "outputs": [],
   "source": [
    "X = dataset[:,1:3]\n",
    "y = dataset[:,3]"
   ]
  },
  {
   "cell_type": "code",
   "execution_count": 42,
   "id": "9688dfcb",
   "metadata": {},
   "outputs": [
    {
     "data": {
      "image/png": "[encoded data removed]",
      "text/plain": [
       "<Figure size 432x288 with 1 Axes>"
      ]
     },
     "metadata": {
      "needs_background": "light"
     },
     "output_type": "display_data"
    }
   ],
   "source": [
    "f1 = plt.figure(1)\n",
    "plt.title('waterlemon_3a')\n",
    "plt.xlabel('density')\n",
    "plt.ylabel('ratio_sugar')\n",
    "plt.scatter(X[y == 0,0], X[y == 0,1], marker ='o', color = 'k', s=100, label = 'bad')\n",
    "plt.scatter(X[y == 1,0], X[y == 1,1], marker ='o', color = 'g', s=100, label = 'good')\n",
    "plt.legend(loc = 'upper right')\n",
    "plt.show()"
   ]
  },
  {
   "cell_type": "code",
   "execution_count": 49,
   "id": "a09f2b64",
   "metadata": {},
   "outputs": [],
   "source": [
    "from sklearn import model_selection\n",
    "from sklearn.discriminant_analysis import LinearDiscriminantAnalysis\n",
    "from sklearn import metrics"
   ]
  },
  {
   "cell_type": "code",
   "execution_count": 52,
   "id": "2c965973",
   "metadata": {},
   "outputs": [],
   "source": [
    "X_train, X_test, y_train, y_test = model_selection.train_test_split(X,y,test_size=0.5, random_state=0)"
   ]
  },
  {
   "cell_type": "code",
   "execution_count": 54,
   "id": "a15921b9",
   "metadata": {},
   "outputs": [],
   "source": [
    "lda_model = LinearDiscriminantAnalysis(solver='lsqr', shrinkage=None).fit(X_train, y_train)"
   ]
  },
  {
   "cell_type": "code",
   "execution_count": 56,
   "id": "c52c5171",
   "metadata": {},
   "outputs": [],
   "source": [
    "y_pred = lda_model.predict(X_test)"
   ]
  },
  {
   "cell_type": "code",
   "execution_count": 58,
   "id": "eea3ef02",
   "metadata": {},
   "outputs": [
    {
     "name": "stdout",
     "output_type": "stream",
     "text": [
      "[[4 1]\n",
      " [1 3]]\n",
      "              precision    recall  f1-score   support\n",
      "\n",
      "         0.0       0.80      0.80      0.80         5\n",
      "         1.0       0.75      0.75      0.75         4\n",
      "\n",
      "    accuracy                           0.78         9\n",
      "   macro avg       0.78      0.78      0.78         9\n",
      "weighted avg       0.78      0.78      0.78         9\n",
      "\n"
     ]
    }
   ],
   "source": [
    "print(metrics.confusion_matrix(y_test, y_pred))\n",
    "print(metrics.classification_report(y_test, y_pred))"
   ]
  },
  {
   "cell_type": "code",
   "execution_count": null,
   "id": "1135d5b4",
   "metadata": {},
   "outputs": [],
   "source": [
    "f2 = plt.figure(2)\n",
    "h = 0.001\n"
   ]
  }
 ],
 "metadata": {
  "kernelspec": {
   "display_name": "Python 3 (ipykernel)",
   "language": "python",
   "name": "python3"
  },
  "language_info": {
   "codemirror_mode": {
    "name": "ipython",
    "version": 3
   },
   "file_extension": ".py",
   "mimetype": "text/x-python",
   "name": "python",
   "nbconvert_exporter": "python",
   "pygments_lexer": "ipython3",
   "version": "3.9.7"
  }
 },
 "nbformat": 4,
 "nbformat_minor": 5
}
